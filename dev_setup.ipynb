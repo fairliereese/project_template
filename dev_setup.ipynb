{
 "cells": [
  {
   "cell_type": "code",
   "execution_count": 5,
   "id": "365ec649-3849-4495-89b6-a7343853e16f",
   "metadata": {},
   "outputs": [],
   "source": [
    "from template_user.resources.utils import *\n",
    "from collections import Counter, defaultdict"
   ]
  },
  {
   "cell_type": "code",
   "execution_count": 6,
   "id": "58295b54-f567-418c-9049-792327918116",
   "metadata": {},
   "outputs": [],
   "source": [
    "m = load_resources()\n",
    "\n",
    "# verify that a new project name has been given \n",
    "if m['setup_settings']['project_name'] == 'project_template':\n",
    "    raise ValueError(f'Must provide a new project name in template_user/resources.yml!')\n",
    "    \n",
    "# verify that all usernames are unique, we'll have a problem \n",
    "# determining the system if not\n",
    "check_setup_usernames(m)\n",
    "\n",
    "# # rename project; immediately remove all git things;\n",
    "# cmd = 'rm -rf .git'\n",
    "# run_cmd(cmd)\n",
    "# cmd = f\"mv ../project_template ../{m['setup_settings']['project_name']}\"\n",
    "# run_cmd(cmd)\n",
    "\n",
    "# get paths for each user in setup_settings\n",
    "path_map, quick_path_map = get_setup_settings_path_maps(m)\n",
    "\n",
    "# also add template user under the mn5 regime\n",
    "path_map['mn5']['template_user'] = get_user_system_entry_path_map(m, 'template_user', 'mn5')\n",
    "quick_path_map['template_user'] = get_user_system_entry_path_map(m, 'template_user', 'mn5')\n",
    "\n",
    "# also add a users list \n",
    "quick_path_map['users'] = list(m['setup_settings']['users'].keys())\n",
    "\n",
    "# write to resources.yml, just append the path_map and quick-access path maps\n",
    "path_map = {'path_map': dict(path_map)}\n",
    "with open('template_user/resources/resources.yml', 'a') as f:\n",
    "        yaml.dump(path_map, f, default_flow_style=False)\n",
    "        yaml.dump(quick_path_map, f, default_flow_style=False)\n",
    "        \n",
    "# # make a copy of template user for each user\n",
    "# for user, systems in m['setup_settings']['users'].items():\n",
    "#     cmd = f'cp -r template_user/ {user}'\n",
    "#     run_cmd(cmd)"
   ]
  },
  {
   "cell_type": "code",
   "execution_count": null,
   "id": "1583a234-94e9-4d4d-8f1d-9fb0cd56af72",
   "metadata": {},
   "outputs": [],
   "source": []
  },
  {
   "cell_type": "code",
   "execution_count": null,
   "id": "c2da4ffc-676f-419f-b96a-b8b201ff5268",
   "metadata": {},
   "outputs": [],
   "source": []
  },
  {
   "cell_type": "code",
   "execution_count": null,
   "id": "c1f6a6ba-3718-4e12-bf14-dab0c8b0b452",
   "metadata": {},
   "outputs": [],
   "source": []
  },
  {
   "cell_type": "code",
   "execution_count": null,
   "id": "3eccf22e-5714-4693-aff3-118e0d91e032",
   "metadata": {},
   "outputs": [],
   "source": []
  },
  {
   "cell_type": "code",
   "execution_count": null,
   "id": "18f16376-7170-4d5d-960d-aabef7d8bf64",
   "metadata": {},
   "outputs": [],
   "source": []
  },
  {
   "cell_type": "code",
   "execution_count": null,
   "id": "7150250a-ea4d-472b-bc3b-ae721c28b58f",
   "metadata": {},
   "outputs": [],
   "source": []
  }
 ],
 "metadata": {
  "kernelspec": {
   "display_name": "Python 3",
   "language": "python",
   "name": "python3"
  },
  "language_info": {
   "codemirror_mode": {
    "name": "ipython",
    "version": 3
   },
   "file_extension": ".py",
   "mimetype": "text/x-python",
   "name": "python",
   "nbconvert_exporter": "python",
   "pygments_lexer": "ipython3",
   "version": "3.7.12"
  }
 },
 "nbformat": 4,
 "nbformat_minor": 5
}
