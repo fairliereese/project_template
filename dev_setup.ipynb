{
 "cells": [
  {
   "cell_type": "code",
   "execution_count": 1,
   "id": "9c8cf35f-94d3-4470-8b79-a659c87b0001",
   "metadata": {},
   "outputs": [],
   "source": [
    "# wishlist:\n",
    "# - demonstrate how to get the username locally "
   ]
  },
  {
   "cell_type": "code",
   "execution_count": 2,
   "id": "42d61a2a-eae2-4018-b42c-438c890985de",
   "metadata": {},
   "outputs": [],
   "source": [
    "# # clones this dir\n",
    "# cmd = 'git clone git@github.com:pclavell/project_template.git'\n",
    "# run_cmd(cmd)"
   ]
  },
  {
   "cell_type": "code",
   "execution_count": 3,
   "id": "20b9d531-5a2b-4a73-adf4-6eb1e2ab13fd",
   "metadata": {},
   "outputs": [],
   "source": [
    "from user1.resources.utils import *\n",
    "import pathlib\n",
    "\n",
    "m = load_resources()\n",
    "m['path_map'] = {}"
   ]
  },
  {
   "cell_type": "code",
   "execution_count": 4,
   "id": "ee054038-d80e-4121-b6c1-10bf7f31b59f",
   "metadata": {},
   "outputs": [],
   "source": [
    "# # rename project; immediately remove all git things;\n",
    "# cmd = 'cd project_template'\n",
    "# run_cmd(cmd)\n",
    "# cmd = 'rm -rf . git'\n",
    "# run_cmd(cmd)\n",
    "# cmd = 'cd ../'\n",
    "# run_cmd(cmd)\n",
    "# cmd = f'mv project_template {m['setup_settings']['project_name']}'\n",
    "# run_cmd(cmd)"
   ]
  },
  {
   "cell_type": "code",
   "execution_count": 5,
   "id": "0a9df0b8-31c4-4855-95a9-0053b0eb0102",
   "metadata": {},
   "outputs": [],
   "source": [
    "# adding path map entries for MN5 location\n",
    "\n",
    "# data dir, ref dir, and figures dir are shared by all users\n",
    "pref = f\"{m['setup_settings']['mn5_projects']}/{m['setup_settings']['project_name']}\"\n",
    "data_dir = f'{pref}/data/'\n",
    "ref_dir = f'{pref}/ref/'\n",
    "figures_dir = f'{pref}/figures/'\n",
    "\n",
    "def make_user_path_map_entry(username):\n",
    "    m['path_map'][username] = {}\n",
    "    m['path_map'][username][\"\\{data_dir\\}\"] = str(pathlib.Path(data_dir))\n",
    "    m['path_map'][username][\"\\{ref_dir\\}\"] = str(pathlib.Path(ref_dir))\n",
    "    m['path_map'][username][\"\\{figures_dir\\}\"] = str(pathlib.Path(figures_dir))\n",
    "    \n",
    "    # metadata dir is part of the github-stored stuff, so it's separate\n",
    "    m['path_map'][username][\"\\{metadata_dir\\}\"] = str(pathlib.Path(f'{pref}/{user}/metadata/'))\n",
    "    \n",
    "    return m \n",
    "    \n",
    "\n",
    "# loop through usernames\n",
    "for user, entry in m['setup_settings']['users'].items():\n",
    "    m = make_user_path_map_entry(entry['mn5_username'])\n",
    "\n",
    "# also make one for temp mn5 user\n",
    "m = make_user_path_map_entry('template_mn5_user_do_not_remove')\n",
    "m['path_map']['template_mn5_user_do_not_remove']\n",
    "\n",
    "\n",
    "# adding path map entries for LOCAL location\n",
    "\n",
    "def make_user_path_map_entry_local(user, username):\n",
    "    # data dir, ref dir, and figures dir are shared by all users\n",
    "    pref = f\"{m['setup_settings']['users'][user]['local_path']}/{m['setup_settings']['project_name']}/\"\n",
    "    data_dir = f'{pref}/data/'\n",
    "    ref_dir = f'{pref}/ref/'\n",
    "    figures_dir = f'{pref}/figures/'\n",
    "\n",
    "    m['path_map'][username] = {}\n",
    "    m['path_map'][username][\"\\{data_dir\\}\"] = str(pathlib.Path(data_dir))\n",
    "    m['path_map'][username][\"\\{ref_dir\\}\"] = str(pathlib.Path(ref_dir))\n",
    "    m['path_map'][username][\"\\{figures_dir\\}\"] = str(pathlib.Path(figures_dir))\n",
    "    m['path_map'][username][\"\\{metadata_dir\\}\"] = str(pathlib.Path(f'{pref}/{user}/metadata/'))\n",
    "    \n",
    "    return m \n",
    "    \n",
    "# loop through usernames\n",
    "for user, entry in m['setup_settings']['users'].items():\n",
    "    m = make_user_path_map_entry_local(user, entry['local_username'])\n",
    "    \n",
    "# write, just append the path_map\n",
    "m_append = {} \n",
    "m_append['path_map'] = m['path_map']\n",
    "with open('user1/resources/resources.yml', 'a') as f:\n",
    "        yaml.dump(m_append, f, default_flow_style=False)"
   ]
  },
  {
   "cell_type": "code",
   "execution_count": 6,
   "id": "5d3dbfba-e95d-4f4e-aea8-7cfa0a48e0f2",
   "metadata": {},
   "outputs": [],
   "source": [
    "# # make a copy of template user for each user\n",
    "# for user in users:\n",
    "#     cmd = f'cp user1/ {user}/'\n",
    "#     run_cmd(cmd)\n",
    "\n",
    "# # run git init in the different user folders\n"
   ]
  },
  {
   "cell_type": "code",
   "execution_count": null,
   "id": "386ba56f-7f0e-4bbe-b3c1-a3e1a8e2d2ee",
   "metadata": {},
   "outputs": [],
   "source": []
  }
 ],
 "metadata": {
  "kernelspec": {
   "display_name": "Python 3",
   "language": "python",
   "name": "python3"
  },
  "language_info": {
   "codemirror_mode": {
    "name": "ipython",
    "version": 3
   },
   "file_extension": ".py",
   "mimetype": "text/x-python",
   "name": "python",
   "nbconvert_exporter": "python",
   "pygments_lexer": "ipython3",
   "version": "3.7.12"
  }
 },
 "nbformat": 4,
 "nbformat_minor": 5
}
