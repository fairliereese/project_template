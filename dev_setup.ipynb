{
 "cells": [
  {
   "cell_type": "code",
   "execution_count": 31,
   "id": "365ec649-3849-4495-89b6-a7343853e16f",
   "metadata": {},
   "outputs": [],
   "source": [
    "from template_user.resources.utils import *\n",
    "import pathlib\n",
    "from collections import Counter, defaultdict"
   ]
  },
  {
   "cell_type": "code",
   "execution_count": 32,
   "id": "bd20644d-fa17-4c7c-9ead-6f17f6b201fc",
   "metadata": {},
   "outputs": [],
   "source": [
    "m = load_resources()"
   ]
  },
  {
   "cell_type": "code",
   "execution_count": 33,
   "id": "31523be9-10e1-436f-9caa-515cf45fae61",
   "metadata": {
    "tags": []
   },
   "outputs": [],
   "source": [
    "# verify that all usernames are unique, we'll have a problem \n",
    "# determining the system if not\n",
    "usernames = []\n",
    "\n",
    "for user, systems in m['setup_settings']['users'].items():\n",
    "    for system, system_dict in systems.items():\n",
    "        if 'username' in system_dict:\n",
    "            usernames.append(system_dict['username'])\n",
    "dupes = [item for item, count in Counter(usernames).items() if count > 1]\n",
    "if len(dupes)>0:\n",
    "    raise ValueError(f'Found duplicated username {dupes}.')"
   ]
  },
  {
   "cell_type": "code",
   "execution_count": 45,
   "id": "e7c77990-1dee-4ed3-9537-bd54de7c00f6",
   "metadata": {},
   "outputs": [],
   "source": [
    "def get_user_system_entry_path_map(m, user, username, system):\n",
    "    \"\"\"\n",
    "    \"\"\"\n",
    "    d = {}\n",
    "\n",
    "    # mn5 paths\n",
    "    if system == 'mn5': \n",
    "        pref = f\"{m['setup_settings']['mn5_projects']}/{m['setup_settings']['project_name']}\"\n",
    "    else:\n",
    "        pref = f\"{system_dict['path']}/{m['setup_settings']['project_name']}/\"\n",
    "\n",
    "    data_dir = f'{pref}/data/'\n",
    "    ref_dir = f'{pref}/ref/'\n",
    "    figures_dir = f'{pref}/figures/'\n",
    "\n",
    "    # metadata dir is part of the github-stored stuff, so it's separate\n",
    "    metadata_dir = str(pathlib.Path(f'{pref}/{user}/metadata/'))\n",
    "\n",
    "    # add all paths to dict\n",
    "    d[\"\\{data_dir\\}\"] = str(pathlib.Path(data_dir))\n",
    "    d[\"\\{ref_dir\\}\"] = str(pathlib.Path(ref_dir))\n",
    "    d[\"\\{figures_dir\\}\"] = str(pathlib.Path(figures_dir))\n",
    "    d[\"\\{metadata_dir\\}\"] = str(pathlib.Path(metadata_dir))\n",
    "    \n",
    "    return d"
   ]
  },
  {
   "cell_type": "code",
   "execution_count": 46,
   "id": "830aa00b-096f-4b7c-9f41-8ed90f2f0586",
   "metadata": {},
   "outputs": [
    {
     "data": {
      "text/plain": [
       "defaultdict(dict,\n",
       "            {'mn5': {'bsc083001': {'\\\\{data_dir\\\\}': '/gpfs/projects/bsc83/Projects/test_project_template/data',\n",
       "               '\\\\{ref_dir\\\\}': '/gpfs/projects/bsc83/Projects/test_project_template/ref',\n",
       "               '\\\\{figures_dir\\\\}': '/gpfs/projects/bsc83/Projects/test_project_template/figures',\n",
       "               '\\\\{metadata_dir\\\\}': '/gpfs/projects/bsc83/Projects/test_project_template/freese/metadata'},\n",
       "              'bsc083549': {'\\\\{data_dir\\\\}': '/gpfs/projects/bsc83/Projects/test_project_template/data',\n",
       "               '\\\\{ref_dir\\\\}': '/gpfs/projects/bsc83/Projects/test_project_template/ref',\n",
       "               '\\\\{figures_dir\\\\}': '/gpfs/projects/bsc83/Projects/test_project_template/figures',\n",
       "               '\\\\{metadata_dir\\\\}': '/gpfs/projects/bsc83/Projects/test_project_template/pclavell/metadata'}},\n",
       "             'local': {'fairliereese': {'\\\\{data_dir\\\\}': '/Users/fairliereese/Documents/programming/mele_lab/projects/test_project_template/data',\n",
       "               '\\\\{ref_dir\\\\}': '/Users/fairliereese/Documents/programming/mele_lab/projects/test_project_template/ref',\n",
       "               '\\\\{figures_dir\\\\}': '/Users/fairliereese/Documents/programming/mele_lab/projects/test_project_template/figures',\n",
       "               '\\\\{metadata_dir\\\\}': '/Users/fairliereese/Documents/programming/mele_lab/projects/test_project_template/freese/metadata'},\n",
       "              'pclavell': {'\\\\{data_dir\\\\}': '/Users/fairliereese/Documents/programming/mele_lab/projects/test_project_template/data',\n",
       "               '\\\\{ref_dir\\\\}': '/Users/fairliereese/Documents/programming/mele_lab/projects/test_project_template/ref',\n",
       "               '\\\\{figures_dir\\\\}': '/Users/fairliereese/Documents/programming/mele_lab/projects/test_project_template/figures',\n",
       "               '\\\\{metadata_dir\\\\}': '/Users/fairliereese/Documents/programming/mele_lab/projects/test_project_template/pclavell/metadata'}}})"
      ]
     },
     "execution_count": 46,
     "metadata": {},
     "output_type": "execute_result"
    }
   ],
   "source": [
    "# loop through usernames\n",
    "path_map = defaultdict(dict)\n",
    "for user, systems in m['setup_settings']['users'].items():\n",
    "    for system, system_dict in systems.items():\n",
    "        \n",
    "        username = system_dict['username']\n",
    "        path_map[system][username] = get_user_system_entry_path_map(m, user, username, system)\n",
    "        \n",
    "#         # mn5 paths\n",
    "#         if system == 'mn5': \n",
    "#             pref = f\"{m['setup_settings']['mn5_projects']}/{m['setup_settings']['project_name']}\"\n",
    "#         else:\n",
    "#             pref = f\"{system_dict['path']}/{m['setup_settings']['project_name']}/\"\n",
    "            \n",
    "#         data_dir = f'{pref}/data/'\n",
    "#         ref_dir = f'{pref}/ref/'\n",
    "#         figures_dir = f'{pref}/figures/'\n",
    "\n",
    "#         # metadata dir is part of the github-stored stuff, so it's separate\n",
    "#         metadata_dir = str(pathlib.Path(f'{pref}/{user}/metadata/'))\n",
    "        \n",
    "#         # add all paths to dict\n",
    "#         path_map[system][username][\"\\{data_dir\\}\"] = str(pathlib.Path(data_dir))\n",
    "#         path_map[system][username][\"\\{ref_dir\\}\"] = str(pathlib.Path(ref_dir))\n",
    "#         path_map[system][username][\"\\{figures_dir\\}\"] = str(pathlib.Path(figures_dir))\n",
    "#         path_map[system][username][\"\\{metadata_dir\\}\"] = str(pathlib.Path(metadata_dir))\n",
    "        \n",
    "\n",
    "path_map\n",
    "        \n"
   ]
  },
  {
   "cell_type": "code",
   "execution_count": 35,
   "id": "5d865003-c474-4cbc-8f77-00137a9906b3",
   "metadata": {},
   "outputs": [
    {
     "data": {
      "text/plain": [
       "defaultdict(dict,\n",
       "            {'mn5': {'username': 'bsc083549'},\n",
       "             'local': {'username': 'pclavell'}})"
      ]
     },
     "execution_count": 35,
     "metadata": {},
     "output_type": "execute_result"
    }
   ],
   "source": [
    "path_map"
   ]
  },
  {
   "cell_type": "code",
   "execution_count": null,
   "id": "cf73794f-c8fe-4d50-9203-5e5cb86c8037",
   "metadata": {},
   "outputs": [],
   "source": []
  },
  {
   "cell_type": "code",
   "execution_count": null,
   "id": "b0117d83-02f4-4ec1-a166-3877eff87ba5",
   "metadata": {},
   "outputs": [],
   "source": []
  }
 ],
 "metadata": {
  "kernelspec": {
   "display_name": "Python 3",
   "language": "python",
   "name": "python3"
  },
  "language_info": {
   "codemirror_mode": {
    "name": "ipython",
    "version": 3
   },
   "file_extension": ".py",
   "mimetype": "text/x-python",
   "name": "python",
   "nbconvert_exporter": "python",
   "pygments_lexer": "ipython3",
   "version": "3.7.12"
  }
 },
 "nbformat": 4,
 "nbformat_minor": 5
}
