{
 "cells": [
  {
   "cell_type": "code",
   "execution_count": null,
   "id": "04d1f2ed-7e3f-4885-839c-2c334b15ba78",
   "metadata": {},
   "outputs": [],
   "source": [
    "from {{cookiecutter.project_name}}.{{cookiecutter.user}}.resources.utils import *"
   ]
  }
 ],
 "metadata": {
  "kernelspec": {
   "display_name": "Python 3",
   "language": "python",
   "name": "python3"
  },
  "language_info": {
   "codemirror_mode": {
    "name": "ipython",
    "version": 3
   },
   "file_extension": ".py",
   "mimetype": "text/x-python",
   "name": "python",
   "nbconvert_exporter": "python",
   "pygments_lexer": "ipython3",
   "version": "3.7.12"
  }
 },
 "nbformat": 4,
 "nbformat_minor": 5
}
