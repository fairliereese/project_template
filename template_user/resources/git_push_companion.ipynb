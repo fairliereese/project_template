{
 "cells": [
  {
   "cell_type": "code",
   "execution_count": 1,
   "id": "a2404c29-2d11-4c4e-bd33-516103a286a2",
   "metadata": {},
   "outputs": [],
   "source": [
    "import os\n",
    "import sys\n",
    "from pathlib import Path\n",
    "\n",
    "# Append resources dir to path\n",
    "p = os.path.dirname(os.getcwd())+'/resources/'\n",
    "sys.path.append(p)\n",
    "\n",
    "from utils import *\n"
   ]
  },
  {
   "cell_type": "code",
   "execution_count": 2,
   "id": "4dda0201-6e71-4f07-b92a-7c5326ff2727",
   "metadata": {},
   "outputs": [],
   "source": [
    "# # save mn5 version of config\n",
    "# save_mn5_config()"
   ]
  },
  {
   "cell_type": "code",
   "execution_count": 8,
   "id": "e3ec675c-770f-4d54-98c8-6303f6469d61",
   "metadata": {},
   "outputs": [
    {
     "name": "stdout",
     "output_type": "stream",
     "text": [
      "REE cant find map in readme\n"
     ]
    }
   ],
   "source": [
    "# get all analysis/ and processing/ subdirs and link them in the corresponding \n",
    "# READMEs if not already done\n",
    "to_update = []\n",
    "\n",
    "# processing\n",
    "d = 'processing'\n",
    "with open(f'../{d}/README.md', 'r') as ifile:\n",
    "    \n",
    "    if d == 'processing':\n",
    "        perm_dirs = ['rules', 'template_snakemake']\n",
    "    else: perm_dirs = []\n",
    "    \n",
    "    # loop through each valid subdir\n",
    "    for sub_d in Path(f'../{d}/').glob('*/'):\n",
    "        stem_sub_d = sub_d.stem\n",
    "        if stem_sub_d in perm_dirs: continue\n",
    "        if not sub_d.is_dir(): continue\n",
    "        \n",
    "        fmt_sub_d = f'[{stem_sub_d}]'\n",
    "        if any(fmt_sub_d in line for line in open(f'../{d}/README.md')): continue\n",
    "        else: print(f'REE cant find {stem_sub_d} in readme')\n",
    "\n"
   ]
  },
  {
   "cell_type": "code",
   "execution_count": 29,
   "id": "f94f5f87-7b21-4388-b9a6-301c0f92240d",
   "metadata": {},
   "outputs": [
    {
     "data": {
      "text/plain": [
       "'../processing/README.md'"
      ]
     },
     "execution_count": 29,
     "metadata": {},
     "output_type": "execute_result"
    }
   ],
   "source": [
    "str(proc_dir)"
   ]
  },
  {
   "cell_type": "code",
   "execution_count": 25,
   "id": "28a02fad-a0fa-46f3-b129-f69c559a3723",
   "metadata": {},
   "outputs": [
    {
     "data": {
      "text/plain": [
       "'template_snakemake'"
      ]
     },
     "execution_count": 25,
     "metadata": {},
     "output_type": "execute_result"
    }
   ],
   "source": []
  },
  {
   "cell_type": "code",
   "execution_count": null,
   "id": "2d12b588-d063-42fe-98a8-080e5ff1196c",
   "metadata": {},
   "outputs": [],
   "source": []
  }
 ],
 "metadata": {
  "kernelspec": {
   "display_name": "Python 3",
   "language": "python",
   "name": "python3"
  },
  "language_info": {
   "codemirror_mode": {
    "name": "ipython",
    "version": 3
   },
   "file_extension": ".py",
   "mimetype": "text/x-python",
   "name": "python",
   "nbconvert_exporter": "python",
   "pygments_lexer": "ipython3",
   "version": "3.7.12"
  }
 },
 "nbformat": 4,
 "nbformat_minor": 5
}
