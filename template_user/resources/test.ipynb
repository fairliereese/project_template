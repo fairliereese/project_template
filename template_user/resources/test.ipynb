{
 "cells": [
  {
   "cell_type": "code",
   "execution_count": 7,
   "id": "6c537ac2-e248-490d-b17b-22c819a57ad6",
   "metadata": {},
   "outputs": [],
   "source": [
    "from pathlib import Path\n",
    "import re\n",
    "import os\n",
    "import sys\n",
    "import pandas as pd\n",
    "\n",
    "script_path = Path('./').resolve()\n",
    "sys.path.append(script_path)\n",
    "\n",
    "from resources.utils import *\n",
    "\n",
    "os.chdir(Path(__file__).resolve().parent)"
   ]
  },
  {
   "cell_type": "code",
   "execution_count": 8,
   "id": "2d19668d-970c-4e04-b29b-f480b33b67c9",
   "metadata": {},
   "outputs": [
    {
     "name": "stdout",
     "output_type": "stream",
     "text": [
      "/Users/fairliereese/Documents/programming/mele_lab/projects/project_template/template_user/resources\n"
     ]
    }
   ],
   "source": [
    "print(script_path)"
   ]
  },
  {
   "cell_type": "code",
   "execution_count": 21,
   "id": "cdc6c626-cf45-481c-8ec2-69225ef64d1e",
   "metadata": {},
   "outputs": [
    {
     "name": "stdout",
     "output_type": "stream",
     "text": [
      "/Users/fairliereese/Documents/programming/mele_lab/projects\n",
      "/Users/fairliereese/Documents/programming/mele_lab/projects\n"
     ]
    }
   ],
   "source": [
    "print(script_path)\n",
    "print(user_dir)"
   ]
  },
  {
   "cell_type": "code",
   "execution_count": null,
   "id": "65c8a417-ecd5-4cfe-9ce4-e5f83ec5924e",
   "metadata": {},
   "outputs": [],
   "source": [
    "from resources.utils import *\n",
    "\n",
    "os.chdir(Path('./').resolve().parent)"
   ]
  }
 ],
 "metadata": {
  "kernelspec": {
   "display_name": "Python 3",
   "language": "python",
   "name": "python3"
  },
  "language_info": {
   "codemirror_mode": {
    "name": "ipython",
    "version": 3
   },
   "file_extension": ".py",
   "mimetype": "text/x-python",
   "name": "python",
   "nbconvert_exporter": "python",
   "pygments_lexer": "ipython3",
   "version": "3.7.12"
  }
 },
 "nbformat": 4,
 "nbformat_minor": 5
}
