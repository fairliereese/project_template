{
 "cells": [
  {
   "cell_type": "code",
   "execution_count": 1,
   "id": "ac281efb-8ac2-4872-bc63-f190cc85199d",
   "metadata": {},
   "outputs": [],
   "source": [
    "from pathlib import Path\n",
    "import re\n",
    "import os\n",
    "import sys\n",
    "\n",
    "from utils import *\n",
    "\n",
    "# user carrying out the user addition\n",
    "curr_user = str(Path(user_dir).name)\n",
    "\n",
    "m = load_resources()"
   ]
  },
  {
   "cell_type": "code",
   "execution_count": 2,
   "id": "e8f74c90-843d-41aa-a297-7712a8d1e480",
   "metadata": {},
   "outputs": [
    {
     "name": "stdout",
     "output_type": "stream",
     "text": [
      "/Users/fairliereese/Documents/programming/mele_lab/projects/project_template/template_user/resources\n"
     ]
    }
   ],
   "source": []
  },
  {
   "cell_type": "code",
   "execution_count": null,
   "id": "cec26459-8ea6-4940-adc9-af3470dba4d4",
   "metadata": {},
   "outputs": [],
   "source": []
  }
 ],
 "metadata": {
  "kernelspec": {
   "display_name": "Python 3",
   "language": "python",
   "name": "python3"
  },
  "language_info": {
   "codemirror_mode": {
    "name": "ipython",
    "version": 3
   },
   "file_extension": ".py",
   "mimetype": "text/x-python",
   "name": "python",
   "nbconvert_exporter": "python",
   "pygments_lexer": "ipython3",
   "version": "3.7.12"
  }
 },
 "nbformat": 4,
 "nbformat_minor": 5
}
