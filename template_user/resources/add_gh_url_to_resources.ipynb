{
 "cells": [
  {
   "cell_type": "code",
   "execution_count": 10,
   "id": "ed0be647-873f-45f2-bf0f-f9fed8e2b81b",
   "metadata": {},
   "outputs": [],
   "source": [
    "import yaml\n",
    "import os\n",
    "import sys\n",
    "\n",
    "# Append resources dir to path\n",
    "p = os.path.dirname(os.getcwd())+'/resources/'\n",
    "sys.path.append(p)\n",
    "\n",
    "from utils import *"
   ]
  },
  {
   "cell_type": "code",
   "execution_count": 12,
   "id": "5779c65d-ee7a-42c3-bbb6-1c286ba4fae2",
   "metadata": {},
   "outputs": [],
   "source": [
    "# add the GitHub URL to resources to allow for use\n",
    "# elsewhere in the project\n",
    "cmd = 'git remote -v'\n",
    "s = run_cmd(cmd)\n",
    "s = s.split()[1]\n",
    "s = s.split(':')[1]\n",
    "s = s.split('.git')[0]\n",
    "s = f\"http://github.com/{s}\"\n",
    "\n",
    "m = {}\n",
    "m['gh_url'] = s\n",
    "\n",
    "with open('resources.yml', 'a') as f:\n",
    "        yaml.dump(m, f, default_flow_style=False)"
   ]
  },
  {
   "cell_type": "code",
   "execution_count": null,
   "id": "2534c70e-68bd-4ff0-ae69-857f960d7045",
   "metadata": {},
   "outputs": [],
   "source": []
  }
 ],
 "metadata": {
  "kernelspec": {
   "display_name": "Python 3",
   "language": "python",
   "name": "python3"
  },
  "language_info": {
   "codemirror_mode": {
    "name": "ipython",
    "version": 3
   },
   "file_extension": ".py",
   "mimetype": "text/x-python",
   "name": "python",
   "nbconvert_exporter": "python",
   "pygments_lexer": "ipython3",
   "version": "3.7.12"
  }
 },
 "nbformat": 4,
 "nbformat_minor": 5
}
