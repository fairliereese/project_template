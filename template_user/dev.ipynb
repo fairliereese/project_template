{
 "cells": [
  {
   "cell_type": "code",
   "execution_count": 3,
   "id": "4d544699-1024-425b-89ec-09702d9ce1de",
   "metadata": {},
   "outputs": [],
   "source": [
    "import os\n",
    "import sys\n",
    "from pathlib import Path\n",
    "\n",
    "# Append resources dir to path\n",
    "p = os.getcwd()+'/resources/'\n",
    "sys.path.append(p)\n",
    "\n",
    "from utils import *\n"
   ]
  },
  {
   "cell_type": "code",
   "execution_count": 10,
   "id": "a85cee82-cf21-429e-ae90-fca3099eb023",
   "metadata": {},
   "outputs": [
    {
     "data": {
      "text/plain": [
       "['metadata/metadata.tsv',\n",
       " 'processing/template_snakemake/submit_smk.sh',\n",
       " 'processing/rules/example.smk',\n",
       " 'README.md',\n",
       " 'processing/README.md',\n",
       " 'resources/save_mn5_config.py',\n",
       " 'metadata',\n",
       " 'analysis/README.md',\n",
       " 'processing',\n",
       " 'resources/TEST.md',\n",
       " '.gitignore',\n",
       " 'resources',\n",
       " 'resources/resources.yml',\n",
       " 'resources/smk_utils.py',\n",
       " 'processing/template_snakemake',\n",
       " 'resources/init_gh_url.py',\n",
       " 'analysis',\n",
       " 'resources/git_push_companion.ipynb',\n",
       " 'processing/rules',\n",
       " 'resources/utils.r',\n",
       " 'analysis/template.R',\n",
       " 'resources/utils.py',\n",
       " 'processing/template_snakemake/Snakefile',\n",
       " 'resources/config.yml']"
      ]
     },
     "execution_count": 10,
     "metadata": {},
     "output_type": "execute_result"
    }
   ],
   "source": [
    "# get all git files\n",
    "cmd = 'git ls-files'\n",
    "files = run_cmd(cmd).splitlines()\n",
    "dirs = [str(Path(f).parent) for f in files]\n",
    "files = [f for f in list(set(files)|set(dirs)) if f != '.']\n",
    "files"
   ]
  },
  {
   "cell_type": "code",
   "execution_count": null,
   "id": "f70daba7-2532-44cc-b772-d14962a19fd6",
   "metadata": {},
   "outputs": [],
   "source": []
  },
  {
   "cell_type": "code",
   "execution_count": null,
   "id": "c59ddd39-9569-4cbd-b769-43a22af4d8af",
   "metadata": {},
   "outputs": [],
   "source": []
  }
 ],
 "metadata": {
  "kernelspec": {
   "display_name": "Python 3",
   "language": "python",
   "name": "python3"
  },
  "language_info": {
   "codemirror_mode": {
    "name": "ipython",
    "version": 3
   },
   "file_extension": ".py",
   "mimetype": "text/x-python",
   "name": "python",
   "nbconvert_exporter": "python",
   "pygments_lexer": "ipython3",
   "version": "3.7.12"
  }
 },
 "nbformat": 4,
 "nbformat_minor": 5
}
