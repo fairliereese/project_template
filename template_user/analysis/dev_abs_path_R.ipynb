{
 "cells": [
  {
   "cell_type": "code",
   "execution_count": 1,
   "id": "8c21a53e-f73c-455d-848a-0e9a05a69a29",
   "metadata": {},
   "outputs": [
    {
     "name": "stderr",
     "output_type": "stream",
     "text": [
      "Warning message in normalizePath(gsub(\"--file=\", \"\", commandArgs(trailingOnly = F)[4])):\n",
      "“path[1]=\"IRkernel::main()\": No such file or directory”\n",
      "Warning message in normalizePath(d):\n",
      "“path[1]=\"/Users/fairliereese/Documents/programming/mele_lab/projects/project_template/freese/metadata/metadata.tsv\": No such file or directory”\n",
      "Warning message in normalizePath(d):\n",
      "“path[1]=\"/Users/fairliereese/Documents/programming/mele_lab/projects/project_template/data/fake_dir/example_{sample}_{replicate}.sam\": No such file or directory”\n",
      "Warning message in normalizePath(d):\n",
      "“path[1]=\"/Users/fairliereese/Documents/programming/mele_lab/projects/project_template/data/fake_dir/example_{sample}.bam\": No such file or directory”\n",
      "Warning message in normalizePath(d):\n",
      "“path[1]=\"/Users/fairliereese/Documents/programming/mele_lab/projects/project_template/data/fake_dir/example_{sample}_sorted.sam\": No such file or directory”\n"
     ]
    }
   ],
   "source": [
    "# Identify user directory to have a reference path to load the utils\n",
    "#       (assuming that it is inside one of these three dirs, at any depth level)\n",
    "\n",
    "get_script_path <- function() {\n",
    "  script_path <- ifelse(length(commandArgs(trailingOnly = F))>2,\n",
    "                              normalizePath(gsub(\"--file=\",\"\",\n",
    "                                                 commandArgs(trailingOnly = F)[4])),\n",
    "                              normalizePath(rstudioapi::getActiveDocumentContext()$path))\n",
    "   # fallback if running in IRkernel / notebook\n",
    "  if (script_path == \"IRkernel::main()\") {\n",
    "    script_path <- normalizePath(getwd())\n",
    "  }\n",
    "\n",
    "  script_path <- paste0(script_path, \"/\")\n",
    "    \n",
    "  return(script_path)\n",
    "}\n",
    "script_path <- get_script_path()\n",
    "user_dir <- gsub(\"/metadata/|/processing/|/analysis/.*\", \"\", script_path)\n",
    "\n",
    "# Source all utils and set up environment\n",
    "source(paste0(user_dir, \"/resources/utils.r\"))\n",
    "config <- set_up_config(user_dir)\n"
   ]
  },
  {
   "cell_type": "code",
   "execution_count": 2,
   "id": "9ff0dcba-c7a0-4bfa-95f3-206ba1675cf8",
   "metadata": {},
   "outputs": [
    {
     "data": {
      "text/html": [
       "'/Users/fairliereese/Documents/programming/mele_lab/projects/240903_pt/ref/hg38_repeats.bed'"
      ],
      "text/latex": [
       "'/Users/fairliereese/Documents/programming/mele\\_lab/projects/240903\\_pt/ref/hg38\\_repeats.bed'"
      ],
      "text/markdown": [
       "'/Users/fairliereese/Documents/programming/mele_lab/projects/240903_pt/ref/hg38_repeats.bed'"
      ],
      "text/plain": [
       "[1] \"/Users/fairliereese/Documents/programming/mele_lab/projects/240903_pt/ref/hg38_repeats.bed\""
      ]
     },
     "metadata": {},
     "output_type": "display_data"
    }
   ],
   "source": [
    "config$test_symlink"
   ]
  },
  {
   "cell_type": "code",
   "execution_count": null,
   "id": "d70d5602-a5ff-4a7b-8def-bf9ea086beb8",
   "metadata": {},
   "outputs": [],
   "source": []
  }
 ],
 "metadata": {
  "kernelspec": {
   "display_name": "R",
   "language": "R",
   "name": "ir"
  },
  "language_info": {
   "codemirror_mode": "r",
   "file_extension": ".r",
   "mimetype": "text/x-r-source",
   "name": "R",
   "pygments_lexer": "r",
   "version": "4.4.1"
  }
 },
 "nbformat": 4,
 "nbformat_minor": 5
}
