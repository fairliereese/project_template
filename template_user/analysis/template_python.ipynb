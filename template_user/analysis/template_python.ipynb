{
 "cells": [
  {
   "cell_type": "code",
   "execution_count": 22,
   "id": "ccb83c2a-c8e5-4e7f-82ac-609733370909",
   "metadata": {},
   "outputs": [],
   "source": [
    "from pathlib import Path\n",
    "import re\n",
    "import os\n",
    "import sys\n",
    "import pandas as pd\n",
    "from snakemake.io import expand\n",
    "\n",
    "script_path = Path.cwd()\n",
    "user_dir = re.sub(r\"/metadata/|/processing/|/analysis/.*\", \"\", str(script_path)+'/')\n",
    "sys.path.append(user_dir)\n",
    "\n",
    "from resources.utils import *"
   ]
  },
  {
   "cell_type": "code",
   "execution_count": 23,
   "id": "70200e60-abad-419b-a909-3f3e67431347",
   "metadata": {},
   "outputs": [],
   "source": [
    "config = load_config_abs()"
   ]
  },
  {
   "cell_type": "code",
   "execution_count": 24,
   "id": "2d8f7b1c-256c-4a43-b159-8f1228ec75c6",
   "metadata": {},
   "outputs": [
    {
     "data": {
      "text/html": [
       "<div>\n",
       "<style scoped>\n",
       "    .dataframe tbody tr th:only-of-type {\n",
       "        vertical-align: middle;\n",
       "    }\n",
       "\n",
       "    .dataframe tbody tr th {\n",
       "        vertical-align: top;\n",
       "    }\n",
       "\n",
       "    .dataframe thead th {\n",
       "        text-align: right;\n",
       "    }\n",
       "</style>\n",
       "<table border=\"1\" class=\"dataframe\">\n",
       "  <thead>\n",
       "    <tr style=\"text-align: right;\">\n",
       "      <th></th>\n",
       "      <th>sample</th>\n",
       "    </tr>\n",
       "  </thead>\n",
       "  <tbody>\n",
       "    <tr>\n",
       "      <th>0</th>\n",
       "      <td>mysample1</td>\n",
       "    </tr>\n",
       "  </tbody>\n",
       "</table>\n",
       "</div>"
      ],
      "text/plain": [
       "      sample\n",
       "0  mysample1"
      ]
     },
     "execution_count": 24,
     "metadata": {},
     "output_type": "execute_result"
    }
   ],
   "source": [
    "# examples of loading / parsing data using the config file\n",
    "meta_df = pd.read_csv(config['metadata'], sep='\\t')\n",
    "meta_df.head()"
   ]
  },
  {
   "cell_type": "code",
   "execution_count": 25,
   "id": "528cf112-f803-459a-bbb3-f567f28a6a49",
   "metadata": {},
   "outputs": [
    {
     "name": "stdout",
     "output_type": "stream",
     "text": [
      "['/Users/fairliereese/Documents/programming/mele_lab/projects/test_project_template/data/fake_dir/example_mysample1.bam']\n"
     ]
    }
   ],
   "source": [
    "fname = expand(config['data']['bam'], \n",
    "               sample=meta_df['sample'])\n",
    "print(fname)"
   ]
  },
  {
   "cell_type": "code",
   "execution_count": 26,
   "id": "589e40d4-164f-486e-ac12-846673c0efde",
   "metadata": {},
   "outputs": [
    {
     "data": {
      "text/plain": [
       "0    mysample1\n",
       "Name: sample, dtype: object"
      ]
     },
     "execution_count": 26,
     "metadata": {},
     "output_type": "execute_result"
    }
   ],
   "source": [
    "meta_df['sample']"
   ]
  },
  {
   "cell_type": "code",
   "execution_count": null,
   "id": "55280129-e160-4a24-b15e-9849a1308e44",
   "metadata": {},
   "outputs": [],
   "source": []
  }
 ],
 "metadata": {
  "kernelspec": {
   "display_name": "Python 3",
   "language": "python",
   "name": "python3"
  },
  "language_info": {
   "codemirror_mode": {
    "name": "ipython",
    "version": 3
   },
   "file_extension": ".py",
   "mimetype": "text/x-python",
   "name": "python",
   "nbconvert_exporter": "python",
   "pygments_lexer": "ipython3",
   "version": "3.7.12"
  }
 },
 "nbformat": 4,
 "nbformat_minor": 5
}
