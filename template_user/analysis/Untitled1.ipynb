{
 "cells": [
  {
   "cell_type": "code",
   "execution_count": 1,
   "id": "0c9ba269-aa0a-446b-b96f-c7ded1808973",
   "metadata": {},
   "outputs": [
    {
     "name": "stderr",
     "output_type": "stream",
     "text": [
      "\n",
      "Attaching package: ‘dplyr’\n",
      "\n",
      "\n",
      "The following objects are masked from ‘package:stats’:\n",
      "\n",
      "    filter, lag\n",
      "\n",
      "\n",
      "The following objects are masked from ‘package:base’:\n",
      "\n",
      "    intersect, setdiff, setequal, union\n",
      "\n",
      "\n"
     ]
    }
   ],
   "source": [
    "\n",
    "scripts_dir = file.path(dirname(getwd()), 'resources/')\n",
    "source(file.path(scripts_dir, 'utils.r'))\n",
    "library(ggplot2)\n",
    "library(dplyr)\n",
    "library(readr)\n",
    "library(stringr)\n",
    "library(ggbeeswarm)"
   ]
  },
  {
   "cell_type": "code",
   "execution_count": 2,
   "id": "f806c5d3-68a5-4b70-9132-e9349ba07592",
   "metadata": {},
   "outputs": [],
   "source": [
    "config = set_up_config('../')"
   ]
  },
  {
   "cell_type": "code",
   "execution_count": 3,
   "id": "541e6baf-0726-4ff9-9cc0-529fb088d60b",
   "metadata": {},
   "outputs": [
    {
     "data": {
      "text/html": [
       "<dl>\n",
       "\t<dt>$metadata</dt>\n",
       "\t\t<dd>'/Users/fairliereese/Documents/programming/mele_lab/projects/test_project_template/freese/metadata/metadata.tsv'</dd>\n",
       "\t<dt>$data</dt>\n",
       "\t\t<dd><dl>\n",
       "\t<dt>$sam</dt>\n",
       "\t\t<dd>'/Users/fairliereese/Documents/programming/mele_lab/projects/test_project_template/data/fake_dir/example_{sample}_{replicate}.sam'</dd>\n",
       "\t<dt>$bam</dt>\n",
       "\t\t<dd>'/Users/fairliereese/Documents/programming/mele_lab/projects/test_project_template/data/fake_dir/example_{sample}.bam'</dd>\n",
       "\t<dt>$sorted_sam</dt>\n",
       "\t\t<dd>'/Users/fairliereese/Documents/programming/mele_lab/projects/test_project_template/data/fake_dir/example_{sample}_sorted.sam'</dd>\n",
       "</dl>\n",
       "</dd>\n",
       "</dl>\n"
      ],
      "text/latex": [
       "\\begin{description}\n",
       "\\item[\\$metadata] '/Users/fairliereese/Documents/programming/mele\\_lab/projects/test\\_project\\_template/freese/metadata/metadata.tsv'\n",
       "\\item[\\$data] \\begin{description}\n",
       "\\item[\\$sam] '/Users/fairliereese/Documents/programming/mele\\_lab/projects/test\\_project\\_template/data/fake\\_dir/example\\_\\{sample\\}\\_\\{replicate\\}.sam'\n",
       "\\item[\\$bam] '/Users/fairliereese/Documents/programming/mele\\_lab/projects/test\\_project\\_template/data/fake\\_dir/example\\_\\{sample\\}.bam'\n",
       "\\item[\\$sorted\\_sam] '/Users/fairliereese/Documents/programming/mele\\_lab/projects/test\\_project\\_template/data/fake\\_dir/example\\_\\{sample\\}\\_sorted.sam'\n",
       "\\end{description}\n",
       "\n",
       "\\end{description}\n"
      ],
      "text/markdown": [
       "$metadata\n",
       ":   '/Users/fairliereese/Documents/programming/mele_lab/projects/test_project_template/freese/metadata/metadata.tsv'\n",
       "$data\n",
       ":   $sam\n",
       ":   '/Users/fairliereese/Documents/programming/mele_lab/projects/test_project_template/data/fake_dir/example_{sample}_{replicate}.sam'\n",
       "$bam\n",
       ":   '/Users/fairliereese/Documents/programming/mele_lab/projects/test_project_template/data/fake_dir/example_{sample}.bam'\n",
       "$sorted_sam\n",
       ":   '/Users/fairliereese/Documents/programming/mele_lab/projects/test_project_template/data/fake_dir/example_{sample}_sorted.sam'\n",
       "\n",
       "\n",
       "\n",
       "\n",
       "\n"
      ],
      "text/plain": [
       "$metadata\n",
       "[1] \"/Users/fairliereese/Documents/programming/mele_lab/projects/test_project_template/freese/metadata/metadata.tsv\"\n",
       "\n",
       "$data\n",
       "$data$sam\n",
       "[1] \"/Users/fairliereese/Documents/programming/mele_lab/projects/test_project_template/data/fake_dir/example_{sample}_{replicate}.sam\"\n",
       "\n",
       "$data$bam\n",
       "[1] \"/Users/fairliereese/Documents/programming/mele_lab/projects/test_project_template/data/fake_dir/example_{sample}.bam\"\n",
       "\n",
       "$data$sorted_sam\n",
       "[1] \"/Users/fairliereese/Documents/programming/mele_lab/projects/test_project_template/data/fake_dir/example_{sample}_sorted.sam\"\n",
       "\n"
      ]
     },
     "metadata": {},
     "output_type": "display_data"
    }
   ],
   "source": [
    "config"
   ]
  },
  {
   "cell_type": "code",
   "execution_count": null,
   "id": "226a6614-64e6-4095-b354-5011c35a6574",
   "metadata": {},
   "outputs": [],
   "source": []
  }
 ],
 "metadata": {
  "kernelspec": {
   "display_name": "R",
   "language": "R",
   "name": "ir"
  },
  "language_info": {
   "codemirror_mode": "r",
   "file_extension": ".r",
   "mimetype": "text/x-r-source",
   "name": "R",
   "pygments_lexer": "r",
   "version": "4.4.1"
  }
 },
 "nbformat": 4,
 "nbformat_minor": 5
}
