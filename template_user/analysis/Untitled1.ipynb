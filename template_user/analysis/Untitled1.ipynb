{
 "cells": [
  {
   "cell_type": "code",
   "execution_count": 10,
   "id": "0c9ba269-aa0a-446b-b96f-c7ded1808973",
   "metadata": {},
   "outputs": [
    {
     "name": "stderr",
     "output_type": "stream",
     "text": [
      "Warning message in normalizePath(gsub(\"--file=\", \"\", commandArgs(trailingOnly = F)[4])):\n",
      "“path[1]=\"IRkernel::main()\": No such file or directory”\n"
     ]
    },
    {
     "name": "stdout",
     "output_type": "stream",
     "text": [
      "[1] \"/Users/fairliereese/Documents/programming/mele_lab/projects/project_template/template_user/analysis/\"\n",
      "[1] \"/Users/fairliereese/Documents/programming/mele_lab/projects/project_template/template_user\"\n"
     ]
    }
   ],
   "source": [
    "# Identify user directory to have a reference path to load the utils\n",
    "#       (assuming that it is inside one of these three dirs, at any depth level)\n",
    "\n",
    "get_script_path <- function() {\n",
    "  script_path <- ifelse(length(commandArgs(trailingOnly = F))>2,\n",
    "                              normalizePath(gsub(\"--file=\",\"\",\n",
    "                                                 commandArgs(trailingOnly = F)[4])),\n",
    "                              normalizePath(rstudioapi::getActiveDocumentContext()$path))\n",
    "   # fallback if running in IRkernel / notebook\n",
    "  if (script_path == \"IRkernel::main()\") {\n",
    "    script_path <- normalizePath(getwd())\n",
    "  }\n",
    "\n",
    "  script_path <- paste0(script_path, \"/\")\n",
    "    \n",
    "  return(script_path)\n",
    "}\n",
    "script_path <- get_script_path()\n",
    "user_dir <- gsub(\"/metadata/|/processing/|/analysis/.*\", \"\", script_path)"
   ]
  },
  {
   "cell_type": "code",
   "execution_count": 15,
   "id": "f806c5d3-68a5-4b70-9132-e9349ba07592",
   "metadata": {},
   "outputs": [],
   "source": [
    "# Source all utils and set up environment\n",
    "source(paste0(user_dir, \"/resources/utils.r\"))\n",
    "config <- set_up_config(user_dir)\n",
    "\n",
    "# Load libraries\n",
    "library(tidyverse)\n",
    "library(data.table)"
   ]
  },
  {
   "cell_type": "code",
   "execution_count": 19,
   "id": "541e6baf-0726-4ff9-9cc0-529fb088d60b",
   "metadata": {},
   "outputs": [],
   "source": [
    "meta_df <- data.table::fread(config$metadata)"
   ]
  },
  {
   "cell_type": "code",
   "execution_count": 24,
   "id": "c8221776-8a33-494f-af38-2d752b9a4067",
   "metadata": {},
   "outputs": [
    {
     "data": {
      "text/html": [
       "'/Users/fairliereese/Documents/programming/mele_lab/projects/test_project_template/data/fake_dir/example_mysample1.bam'"
      ],
      "text/latex": [
       "'/Users/fairliereese/Documents/programming/mele\\_lab/projects/test\\_project\\_template/data/fake\\_dir/example\\_mysample1.bam'"
      ],
      "text/markdown": [
       "'/Users/fairliereese/Documents/programming/mele_lab/projects/test_project_template/data/fake_dir/example_mysample1.bam'"
      ],
      "text/plain": [
       "[1] \"/Users/fairliereese/Documents/programming/mele_lab/projects/test_project_template/data/fake_dir/example_mysample1.bam\""
      ]
     },
     "metadata": {},
     "output_type": "display_data"
    }
   ],
   "source": [
    "expand(config$data$bam, sample=c(meta_df$sample))"
   ]
  },
  {
   "cell_type": "code",
   "execution_count": null,
   "id": "a6de94d0-15ed-4bcd-a596-6c248cb24c19",
   "metadata": {},
   "outputs": [],
   "source": [
    "fread(config$data$sorted_sam)"
   ]
  },
  {
   "cell_type": "code",
   "execution_count": null,
   "id": "ca10fe1c-ee05-44c4-a3e8-47b2f495aac3",
   "metadata": {},
   "outputs": [],
   "source": [
    "meta_df$sample\n"
   ]
  }
 ],
 "metadata": {
  "kernelspec": {
   "display_name": "R",
   "language": "R",
   "name": "ir"
  },
  "language_info": {
   "codemirror_mode": "r",
   "file_extension": ".r",
   "mimetype": "text/x-r-source",
   "name": "R",
   "pygments_lexer": "r",
   "version": "4.4.1"
  }
 },
 "nbformat": 4,
 "nbformat_minor": 5
}
