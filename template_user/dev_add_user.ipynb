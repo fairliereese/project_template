{
 "cells": [
  {
   "cell_type": "code",
   "execution_count": 28,
   "id": "d7258b82-f9ab-42be-95b0-fd7ef283ef97",
   "metadata": {},
   "outputs": [],
   "source": [
    "from pathlib import Path\n",
    "import re\n",
    "import os\n",
    "import sys\n",
    "import pandas as pd\n",
    "from snakemake.io import expand\n",
    "\n",
    "script_path = Path.cwd()\n",
    "user_dir = re.sub(r\"/(metadata|processing|analysis)/.*$\", \"\", str(Path(script_path))+'/')\n",
    "sys.path.append(user_dir)\n",
    "\n",
    "from resources.utils import *"
   ]
  },
  {
   "cell_type": "code",
   "execution_count": 22,
   "id": "b0d8500f-5e73-4b25-aa9d-c4bd30f41ed1",
   "metadata": {},
   "outputs": [],
   "source": [
    "# user carrying out the user addition\n",
    "curr_user = str(Path(user_dir).name)"
   ]
  },
  {
   "cell_type": "code",
   "execution_count": 5,
   "id": "f995d280-973a-4cd6-86f9-22941467be17",
   "metadata": {},
   "outputs": [],
   "source": [
    "m = load_resources()"
   ]
  },
  {
   "cell_type": "code",
   "execution_count": 10,
   "id": "305badd1-d97c-4172-ad67-dfee11b41985",
   "metadata": {},
   "outputs": [],
   "source": [
    "# # list of new users\n",
    "# curr_users = m['users']\n",
    "# new_users = list(set(list(m['setup_settings']['users'].keys()))-set(curr_users))\n",
    "\n",
    "# if len(new_users) == 0: \n",
    "#     raise ValueError('No new users found. Exiting.')\n",
    "\n",
    "# # verify that all usernames are unique, we'll have a problem \n",
    "# # determining the system if not\n",
    "# check_setup_usernames(m)\n",
    "\n",
    "new_users = ['new_user']\n",
    "curr_users = ['template_user']"
   ]
  },
  {
   "cell_type": "code",
   "execution_count": 17,
   "id": "7cc0861f-ba7b-4c0f-927e-2368b3cb0e44",
   "metadata": {},
   "outputs": [],
   "source": [
    "# get paths for each user in setup_settings\n",
    "path_map, quick_path_map = get_setup_settings_path_maps(m)\n",
    "\n",
    "# also add template user under the mn5 regime\n",
    "path_map['mn5']['template_user'] = get_user_system_entry_path_map(m, 'template_user', 'mn5')\n",
    "quick_path_map['template_user'] = get_user_system_entry_path_map(m, 'template_user', 'mn5')\n",
    "\n",
    "# also add a users list \n",
    "quick_path_map['users'] = list(m['setup_settings']['users'].keys())\n",
    "\n",
    "# path_map from default dict to normal dict (defaultdict\n",
    "# doesn't save nicely in yaml)\n",
    "path_map = {'path_map': dict(path_map)}"
   ]
  },
  {
   "cell_type": "code",
   "execution_count": 18,
   "id": "c8b135ba-805a-490f-86a5-3b8384883346",
   "metadata": {},
   "outputs": [],
   "source": [
    "# for each current user, update the resources.yml\n",
    "for user in curr_users:\n",
    "    \n",
    "    # load this users' resources to add the new user to\n",
    "    user_cfg = f'../{user}/resources/resources.yml'\n",
    "    m = load_config(user_cfg)\n",
    "    \n",
    "    # when writing, we now need to overwrite previous entries\n",
    "    m['path_map'] = path_map\n",
    "\n",
    "    # quick path map\n",
    "    for key, item in quick_path_map.items():\n",
    "        m[key] = item\n",
    "        \n",
    "    # rewrite\n",
    "    with open(user_cfg, 'w') as f:\n",
    "        yaml.dump(m, f, default_flow_style=False)"
   ]
  },
  {
   "cell_type": "code",
   "execution_count": 27,
   "id": "560c451e-da49-43fe-96a6-5d1cb921e4cc",
   "metadata": {},
   "outputs": [
    {
     "name": "stdout",
     "output_type": "stream",
     "text": [
      "cp -r /Users/fairliereese/Documents/programming/mele_lab/projects/project_template/template_user new_user\n",
      "git fetch origin\n",
      "git reset --hard origin/main\n"
     ]
    }
   ],
   "source": [
    "# for each new user, copy the user's directory that is carrying out \n",
    "# the change, and switch to the main branch\n",
    "curr_user_dir = str(Path(user_dir))\n",
    "for user in new_users:\n",
    "    cmd = f\"cp -r {curr_user_dir} {user}\"\n",
    "    print(cmd)\n",
    "    # run_cmd(cmd)\n",
    "    cmd = \"git fetch origin\"\n",
    "    print(cmd)\n",
    "    # run_cmd(cmd, wd=user)\n",
    "    cmd = \"git reset --hard origin/main\"\n",
    "    print(cmd)\n",
    "    # run_cmd(cmd, wd=user)"
   ]
  },
  {
   "cell_type": "code",
   "execution_count": null,
   "id": "4b0c79a7-fcce-4528-a97a-91e2b9bc1f25",
   "metadata": {},
   "outputs": [],
   "source": []
  }
 ],
 "metadata": {
  "kernelspec": {
   "display_name": "Python 3",
   "language": "python",
   "name": "python3"
  },
  "language_info": {
   "codemirror_mode": {
    "name": "ipython",
    "version": 3
   },
   "file_extension": ".py",
   "mimetype": "text/x-python",
   "name": "python",
   "nbconvert_exporter": "python",
   "pygments_lexer": "ipython3",
   "version": "3.7.12"
  }
 },
 "nbformat": 4,
 "nbformat_minor": 5
}
