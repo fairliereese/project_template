{
 "cells": [
  {
   "cell_type": "code",
   "execution_count": 1,
   "id": "020e34d5-193b-4919-93b3-04a014def27d",
   "metadata": {},
   "outputs": [],
   "source": [
    "from pathlib import Path\n",
    "import re\n",
    "import os\n",
    "import sys\n",
    "import pandas as pd\n",
    "from snakemake.io import expand\n",
    "\n",
    "script_path = Path.cwd()\n",
    "user_dir = re.sub(r\"/(metadata|processing|analysis)/.*$\", \"\", str(Path(script_path))+'/')\n",
    "sys.path.append(user_dir)\n",
    "\n",
    "from resources.utils import *"
   ]
  },
  {
   "cell_type": "code",
   "execution_count": 2,
   "id": "9997cb73-ce1a-47ff-a812-ca210812549b",
   "metadata": {},
   "outputs": [
    {
     "data": {
      "text/plain": [
       "{'metadata': '/Users/fairliereese/Documents/programming/mele_lab/projects/project_template/freese/metadata/metadata.tsv',\n",
       " 'data': {'sam': '/Users/fairliereese/Documents/programming/mele_lab/projects/project_template/data/fake_dir/example_{sample}_{replicate}.sam',\n",
       "  'bam': '/Users/fairliereese/Documents/programming/mele_lab/projects/project_template/data/fake_dir/example_{sample}.bam',\n",
       "  'sorted_sam': '/Users/fairliereese/Documents/programming/mele_lab/projects/project_template/data/fake_dir/example_{sample}_sorted.sam'},\n",
       " 'test_symlink': '/Users/fairliereese/Documents/programming/mele_lab/projects/240903_pt/ref/hg38_repeats.bed'}"
      ]
     },
     "execution_count": 2,
     "metadata": {},
     "output_type": "execute_result"
    }
   ],
   "source": [
    "load_config_abs()"
   ]
  },
  {
   "cell_type": "code",
   "execution_count": null,
   "id": "a311f65c-df66-438e-929c-af8130f45573",
   "metadata": {},
   "outputs": [],
   "source": []
  }
 ],
 "metadata": {
  "kernelspec": {
   "display_name": "Python 3",
   "language": "python",
   "name": "python3"
  },
  "language_info": {
   "codemirror_mode": {
    "name": "ipython",
    "version": 3
   },
   "file_extension": ".py",
   "mimetype": "text/x-python",
   "name": "python",
   "nbconvert_exporter": "python",
   "pygments_lexer": "ipython3",
   "version": "3.7.12"
  }
 },
 "nbformat": 4,
 "nbformat_minor": 5
}
