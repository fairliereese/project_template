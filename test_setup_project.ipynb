{
 "cells": [
  {
   "cell_type": "code",
   "execution_count": 1,
   "id": "a4132297-ad0a-45aa-8b66-3dbb605a3c7a",
   "metadata": {},
   "outputs": [],
   "source": [
    "from template_user.resources.utils import *\n",
    "import pathlib\n",
    "from collections import defaultdict, Counter\n",
    "\n",
    "m = load_resources()"
   ]
  },
  {
   "cell_type": "code",
   "execution_count": 2,
   "id": "793e3080-4f92-4629-8377-82dfc3d6d42e",
   "metadata": {},
   "outputs": [],
   "source": [
    "# verify that a new project name has been given \n",
    "if m['setup_settings']['project_name'] == 'project_template':\n",
    "    raise ValueError(f'Must provide a new project name in template_user/resources.yml!')\n"
   ]
  },
  {
   "cell_type": "code",
   "execution_count": 4,
   "id": "77c700d6-bb69-41e7-ab96-a86db6ac63b2",
   "metadata": {},
   "outputs": [],
   "source": [
    "# verify that all usernames are unique, we'll have a problem \n",
    "# determining the system if not\n",
    "check_setup_usernames(m)"
   ]
  },
  {
   "cell_type": "code",
   "execution_count": 5,
   "id": "775e1ec8-a98a-4a22-b7d7-d3e1b4b80241",
   "metadata": {},
   "outputs": [
    {
     "name": "stdout",
     "output_type": "stream",
     "text": [
      "rm -rf .git\n",
      "mv ../project_template ../test_project_template\n"
     ]
    }
   ],
   "source": [
    "# rename project; immediately remove all git things;\n",
    "cmd = 'rm -rf .git'\n",
    "print(cmd)\n",
    "# run_cmd(cmd)\n",
    "cmd = f\"mv ../project_template ../{m['setup_settings']['project_name']}\"\n",
    "print(cmd)\n",
    "# run_cmd(cmd)"
   ]
  },
  {
   "cell_type": "code",
   "execution_count": 6,
   "id": "834b5c1b-ebfb-4785-b488-509cf7015d11",
   "metadata": {},
   "outputs": [],
   "source": [
    "# get paths for each user in setup_settings\n",
    "path_map, quick_path_map = get_setup_settings_path_maps(m)\n",
    "\n",
    "# also add template user under the mn5 regime\n",
    "path_map['mn5']['template_user'] = get_user_system_entry_path_map(m, 'template_user', 'mn5')\n",
    "quick_path_map['template_user'] = get_user_system_entry_path_map(m, 'template_user', 'mn5')\n",
    "\n",
    "# also add a users list \n",
    "quick_path_map['users'] = list(m['setup_settings']['users'].keys())"
   ]
  },
  {
   "cell_type": "code",
   "execution_count": 8,
   "id": "db7e0ad9-9a48-42c1-8ed1-485c90c8ce49",
   "metadata": {},
   "outputs": [
    {
     "name": "stdout",
     "output_type": "stream",
     "text": [
      "cp -r template_user/ freese\n",
      "cp -r template_user/ pclavell\n"
     ]
    }
   ],
   "source": [
    "# write to resources.yml, just append the path_map and quick-access path maps\n",
    "path_map = {'path_map': dict(path_map)}\n",
    "with open('template_user/resources/resources.yml', 'a') as f:\n",
    "    pass\n",
    "        # yaml.dump(path_map, f, default_flow_style=False)\n",
    "        # yaml.dump(quick_path_map, f, default_flow_style=False)\n",
    "        \n",
    "# make a copy of template user for each user\n",
    "for user, systems in m['setup_settings']['users'].items():\n",
    "    cmd = f'cp -r template_user/ {user}'\n",
    "    print(cmd)\n",
    "    # run_cmd(cmd)"
   ]
  },
  {
   "cell_type": "code",
   "execution_count": 11,
   "id": "bc99562f-c90d-4d60-95d4-a5dfd9970786",
   "metadata": {},
   "outputs": [
    {
     "name": "stdout",
     "output_type": "stream",
     "text": [
      "freese\n",
      "pclavell\n"
     ]
    }
   ],
   "source": [
    "# # for each user, create the cookiecutter json\n",
    "# # project_name = m['setup_settings']['project_name']\n",
    "# for user, systems in m['setup_settings']['users'].items():\n",
    "#     print(user)\n",
    "#     cookie_dict = {'user': user,\n",
    "#                    'project_name': }"
   ]
  },
  {
   "cell_type": "code",
   "execution_count": 10,
   "id": "b27f4f67-ac68-4206-87f8-546126105743",
   "metadata": {},
   "outputs": [
    {
     "data": {
      "text/plain": [
       "'test_project_template'"
      ]
     },
     "execution_count": 10,
     "metadata": {},
     "output_type": "execute_result"
    }
   ],
   "source": [
    "\n",
    "project_name"
   ]
  },
  {
   "cell_type": "code",
   "execution_count": null,
   "id": "81c7898f-cd9b-4cae-b441-0d1af637ab17",
   "metadata": {},
   "outputs": [],
   "source": []
  }
 ],
 "metadata": {
  "kernelspec": {
   "display_name": "Python 3",
   "language": "python",
   "name": "python3"
  },
  "language_info": {
   "codemirror_mode": {
    "name": "ipython",
    "version": 3
   },
   "file_extension": ".py",
   "mimetype": "text/x-python",
   "name": "python",
   "nbconvert_exporter": "python",
   "pygments_lexer": "ipython3",
   "version": "3.7.12"
  }
 },
 "nbformat": 4,
 "nbformat_minor": 5
}
