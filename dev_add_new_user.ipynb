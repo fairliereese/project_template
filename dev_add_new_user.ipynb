{
 "cells": [
  {
   "cell_type": "code",
   "execution_count": 41,
   "id": "7ee605a7-cb6a-4c2b-bd3d-ffdf788cc696",
   "metadata": {},
   "outputs": [],
   "source": [
    "from template_user.resources.utils import *\n",
    "import pathlib\n",
    "\n",
    "m = load_resources()"
   ]
  },
  {
   "cell_type": "code",
   "execution_count": 42,
   "id": "cd31cf3e-3ab8-44c3-a943-415152743175",
   "metadata": {},
   "outputs": [],
   "source": [
    "# list of new users\n",
    "new_users = list(set(list(m['setup_settings']['users'].keys()))-set(m['users']))\n",
    "\n",
    "if len(new_users) == 0: \n",
    "    print('No new users found. Exiting.')\n",
    "    # return"
   ]
  },
  {
   "cell_type": "code",
   "execution_count": 43,
   "id": "e1ab558a-c256-4156-8fce-2ea23f0261f0",
   "metadata": {},
   "outputs": [],
   "source": [
    "# verify that all usernames are unique, we'll have a problem \n",
    "# determining the system if not\n",
    "check_setup_usernames(m)"
   ]
  },
  {
   "cell_type": "code",
   "execution_count": 44,
   "id": "dc364c47-5d94-488f-a5ba-065ad9d7a527",
   "metadata": {},
   "outputs": [],
   "source": [
    "path_map, quick_path_map = get_setup_settings_path_maps(m)"
   ]
  },
  {
   "cell_type": "code",
   "execution_count": 45,
   "id": "d83e514f-a532-466e-aaa1-a7610927a1b2",
   "metadata": {},
   "outputs": [],
   "source": [
    "# also add a users list \n",
    "quick_path_map['users'] = list(m['setup_settings']['users'].keys())"
   ]
  },
  {
   "cell_type": "code",
   "execution_count": 46,
   "id": "0f4e733c-5b01-42c2-96a5-8edc371642ca",
   "metadata": {},
   "outputs": [],
   "source": [
    "# when writing, we now need to overwrite previous entries\n",
    "path_map = {'path_map': dict(path_map)}\n",
    "m['path_map'] = path_map\n",
    "\n",
    "# quick path map\n",
    "for key, item in quick_path_map.items():\n",
    "    m[key] = item\n",
    "\n",
    "# rewrite\n",
    "with open('template_user/resources/resources.yml', 'w') as f:\n",
    "    yaml.dump(m, f, default_flow_style=False)"
   ]
  },
  {
   "cell_type": "code",
   "execution_count": 47,
   "id": "90050a44-914c-4550-b6ed-0e254349ac0c",
   "metadata": {},
   "outputs": [
    {
     "name": "stdout",
     "output_type": "stream",
     "text": [
      "cp -r freese new_user\n",
      "git checkout main\n"
     ]
    }
   ],
   "source": [
    "# which one was the new user ? copy a preexisting user for them\n",
    "# idea is to get also the git info \n",
    "for user in new_users:\n",
    "    cmd = f\"cp -r {list(m['setup_settings']['users'].keys())[0]} {user}\"\n",
    "    print(cmd)\n",
    "    # run_cmd(cmd)\n",
    "    cmd = f'git checkout main'\n",
    "    # run_cmd(cmd, user)\n",
    "    print(cmd)\n"
   ]
  },
  {
   "cell_type": "code",
   "execution_count": null,
   "id": "32eb1bb4-17f1-4cc1-80ef-6ae800991c1e",
   "metadata": {},
   "outputs": [],
   "source": []
  }
 ],
 "metadata": {
  "kernelspec": {
   "display_name": "Python 3",
   "language": "python",
   "name": "python3"
  },
  "language_info": {
   "codemirror_mode": {
    "name": "ipython",
    "version": 3
   },
   "file_extension": ".py",
   "mimetype": "text/x-python",
   "name": "python",
   "nbconvert_exporter": "python",
   "pygments_lexer": "ipython3",
   "version": "3.7.12"
  }
 },
 "nbformat": 4,
 "nbformat_minor": 5
}
