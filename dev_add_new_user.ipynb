{
 "cells": [
  {
   "cell_type": "code",
   "execution_count": 12,
   "id": "ae9e9ed2-49eb-4ef5-a7c0-065401b0fbff",
   "metadata": {},
   "outputs": [],
   "source": [
    "from template_user.resources.utils import *\n",
    "import pathlib"
   ]
  },
  {
   "cell_type": "code",
   "execution_count": 13,
   "id": "f1142852-bbd1-40df-8796-c0b0b17078e4",
   "metadata": {},
   "outputs": [],
   "source": [
    "m = load_resources()"
   ]
  },
  {
   "cell_type": "code",
   "execution_count": 14,
   "id": "a23187d1-1ec1-4017-a774-0e30d8cb9df8",
   "metadata": {},
   "outputs": [
    {
     "data": {
      "text/plain": [
       "{'setup_settings': {'project_name': 'test_project_template',\n",
       "  'users': {'freese': {'mn5': {'username': 'bsc083001'},\n",
       "    'local': {'username': 'fairliereese',\n",
       "     'path': '/Users/fairliereese/Documents/programming/mele_lab/projects/'}},\n",
       "   'pclavell': {'mn5': {'username': 'bsc083549'},\n",
       "    'local': {'username': 'pclavell',\n",
       "     'path': '/Users/fairliereese/Documents/programming/mele_lab/projects/'}}},\n",
       "  'mn5_projects': '/gpfs/projects/bsc83/Projects/'}}"
      ]
     },
     "execution_count": 14,
     "metadata": {},
     "output_type": "execute_result"
    }
   ],
   "source": [
    "usernames = []\n",
    "settings = data[\"setup_settings\"][\"users\"]\n",
    "\n",
    "for user, systems in settings.items():\n",
    "    for sysname, sysdata in systems.items():\n",
    "        if \"username\" in sysdata:\n",
    "            usernames.append(sysdata[\"username\"])\n",
    "\n",
    "print(usernames)"
   ]
  },
  {
   "cell_type": "code",
   "execution_count": 15,
   "id": "9092f89f-02ce-4ddd-ac78-00733d509d3b",
   "metadata": {},
   "outputs": [
    {
     "name": "stdout",
     "output_type": "stream",
     "text": [
      "freese\n",
      "pclavell\n"
     ]
    }
   ],
   "source": [
    "# loop through usernames\n",
    "for user, entry in m['setup_settings']['users'].items():\n",
    "    print(user)"
   ]
  },
  {
   "cell_type": "code",
   "execution_count": null,
   "id": "fc8cc033-278b-4c0c-8eb6-fa2a8edc6fc4",
   "metadata": {},
   "outputs": [],
   "source": []
  },
  {
   "cell_type": "code",
   "execution_count": null,
   "id": "e4cec5d5-28de-4bc0-98b3-d0e233a06402",
   "metadata": {},
   "outputs": [],
   "source": [
    "# data dir, ref dir, and figures dir are shared by all users\n",
    "pref = f\"{m['setup_settings']['mn5_projects']}/{m['setup_settings']['project_name']}\"\n",
    "data_dir = f'{pref}/data/'\n",
    "ref_dir = f'{pref}/ref/'\n",
    "figures_dir = f'{pref}/figures/'\n",
    "\n",
    "\n",
    "def make_user_path_map_entry(username, system):\n",
    "    \"\"\"\n",
    "    system: {'mn5', 'local'}\n",
    "    \"\"\"\n",
    "    m['path_map'][username] = {}\n",
    "    m['path_map'][username][\"\\{data_dir\\}\"] = str(pathlib.Path(data_dir))\n",
    "    m['path_map'][username][\"\\{ref_dir\\}\"] = str(pathlib.Path(ref_dir))\n",
    "    m['path_map'][username][\"\\{figures_dir\\}\"] = str(pathlib.Path(figures_dir))\n",
    "\n",
    "    # metadata dir is part of the github-stored stuff, so it's separate\n",
    "    m['path_map'][username][\"\\{metadata_dir\\}\"] = str(pathlib.Path(f'{pref}/{user}/metadata/'))\n",
    "    \n",
    "    # these we'll use for all-purpose directory retrieval, but separate from path_map\n",
    "    m2[username] = {}\n",
    "    m2[username][\"data_dir\"] = str(pathlib.Path(data_dir))\n",
    "    m2[username][\"ref_dir\"] = str(pathlib.Path(ref_dir))\n",
    "    m2[username][\"figures_dir\"] = str(pathlib.Path(figures_dir))\n",
    "\n",
    "    # metadata dir is part of the github-stored stuff, so it's separate\n",
    "    m2[username][\"metadata_dir\"] = str(pathlib.Path(f'{pref}/{user}/metadata/'))\n",
    "\n",
    "    return m, m2"
   ]
  },
  {
   "cell_type": "code",
   "execution_count": null,
   "id": "fc6684ca-f24f-4533-8271-c83d72da6213",
   "metadata": {},
   "outputs": [],
   "source": []
  },
  {
   "cell_type": "code",
   "execution_count": 4,
   "id": "6f24528e-c16b-4950-8b5f-4248ef9d9697",
   "metadata": {},
   "outputs": [],
   "source": [
    "# m = load_resources()\n",
    "\n",
    "# # for path_map for find and replace\n",
    "# m['path_map'] = {}\n",
    "\n",
    "# # for plain text getters\n",
    "# m2 = {}\n",
    "\n",
    "# # adding path map entries for MN5 location\n",
    "\n",
    "# # data dir, ref dir, and figures dir are shared by all users\n",
    "# pref = f\"{m['setup_settings']['mn5_projects']}/{m['setup_settings']['project_name']}\"\n",
    "# data_dir = f'{pref}/data/'\n",
    "# ref_dir = f'{pref}/ref/'\n",
    "# figures_dir = f'{pref}/figures/'\n",
    "\n",
    "# # loop through usernames and add only the new one -- mn5\n",
    "# for user, entry in m['setup_settings']['users'].items():\n",
    "#     if user not in m['path_map'].keys():\n",
    "#         m, m2 = make_user_path_map_entry, m, entry['mn5_username'])\n",
    "\n",
    "\n",
    "# # loop through usernames and and add only the new one -- local\n",
    "# for user, entry in m['setup_settings']['users'].items():\n",
    "#     if user not in m['path_map'].keys():\n",
    "#         m, m2 = make_user_path_map_entry_local(m, user, entry['local_username'])"
   ]
  },
  {
   "cell_type": "code",
   "execution_count": 5,
   "id": "18b4a4ee-4efc-43da-b746-2be3f36cf44e",
   "metadata": {},
   "outputs": [],
   "source": [
    "# # write, just append the path_map and quick-access path maps\n",
    "# m_append = {}\n",
    "# m_append['path_map'] = m['path_map']\n",
    "# with open('template_user/resources/resources.yml', 'a') as f:\n",
    "#         yaml.dump(m_append, f, default_flow_style=False)\n",
    "#         yaml.dump(m2, f, default_flow_style=False)\n",
    "\n",
    "# # make a copy of template user for each user\n",
    "# for user in m['setup_settings']['users']:\n",
    "#     cmd = f'cp -r template_user/ {user}'\n",
    "#     run_cmd(cmd)\n"
   ]
  },
  {
   "cell_type": "code",
   "execution_count": null,
   "id": "7ee605a7-cb6a-4c2b-bd3d-ffdf788cc696",
   "metadata": {},
   "outputs": [],
   "source": []
  }
 ],
 "metadata": {
  "kernelspec": {
   "display_name": "Python 3",
   "language": "python",
   "name": "python3"
  },
  "language_info": {
   "codemirror_mode": {
    "name": "ipython",
    "version": 3
   },
   "file_extension": ".py",
   "mimetype": "text/x-python",
   "name": "python",
   "nbconvert_exporter": "python",
   "pygments_lexer": "ipython3",
   "version": "3.7.12"
  }
 },
 "nbformat": 4,
 "nbformat_minor": 5
}
