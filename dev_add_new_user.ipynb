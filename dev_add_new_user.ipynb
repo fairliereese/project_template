{
 "cells": [
  {
   "cell_type": "code",
   "execution_count": 1,
   "id": "ae9e9ed2-49eb-4ef5-a7c0-065401b0fbff",
   "metadata": {},
   "outputs": [],
   "source": [
    "from template_user.resources.utils import *\n",
    "import pathlib"
   ]
  },
  {
   "cell_type": "code",
   "execution_count": 2,
   "id": "acd72675-bd39-491a-bdba-2e0e60f6df5d",
   "metadata": {},
   "outputs": [],
   "source": [
    "# # this should just go in utils\n",
    "# def make_user_path_map_entry(username):\n",
    "#     m['path_map'][username] = {}\n",
    "#     m['path_map'][username][\"\\{data_dir\\}\"] = str(pathlib.Path(data_dir))\n",
    "#     m['path_map'][username][\"\\{ref_dir\\}\"] = str(pathlib.Path(ref_dir))\n",
    "#     m['path_map'][username][\"\\{figures_dir\\}\"] = str(pathlib.Path(figures_dir))\n",
    "\n",
    "#     # metadata dir is part of the github-stored stuff, so it's separate\n",
    "#     m['path_map'][username][\"\\{metadata_dir\\}\"] = str(pathlib.Path(f'{pref}/{user}/metadata/'))\n",
    "    \n",
    "#     # these we'll use for all-purpose directory retrieval, but separate from path_map\n",
    "#     m2[username] = {}\n",
    "#     m2[username][\"data_dir\"] = str(pathlib.Path(data_dir))\n",
    "#     m2[username][\"ref_dir\"] = str(pathlib.Path(ref_dir))\n",
    "#     m2[username][\"figures_dir\"] = str(pathlib.Path(figures_dir))\n",
    "\n",
    "#     # metadata dir is part of the github-stored stuff, so it's separate\n",
    "#     m2[username][\"metadata_dir\"] = str(pathlib.Path(f'{pref}/{user}/metadata/'))\n",
    "\n",
    "#     return m, m2\n",
    "\n",
    "# # adding path map entries for LOCAL location\n",
    "# def make_user_path_map_entry_local(user, username):\n",
    "#     # data dir, ref dir, and figures dir are shared by all users\n",
    "#     pref = f\"{m['setup_settings']['users'][user]['local_path']}/{m['setup_settings']['project_name']}/\"\n",
    "#     data_dir = f'{pref}/data/'\n",
    "#     ref_dir = f'{pref}/ref/'\n",
    "#     figures_dir = f'{pref}/figures/'\n",
    "\n",
    "#     m['path_map'][username] = {}\n",
    "#     m['path_map'][username][\"\\{data_dir\\}\"] = str(pathlib.Path(data_dir))\n",
    "#     m['path_map'][username][\"\\{ref_dir\\}\"] = str(pathlib.Path(ref_dir))\n",
    "#     m['path_map'][username][\"\\{figures_dir\\}\"] = str(pathlib.Path(figures_dir))\n",
    "#     m['path_map'][username][\"\\{metadata_dir\\}\"] = str(pathlib.Path(f'{pref}/{user}/metadata/'))\n",
    "    \n",
    "#     m2[username] = {}\n",
    "#     m2[username][\"data_dir\"] = str(pathlib.Path(data_dir))\n",
    "#     m2[username][\"ref_dir\"] = str(pathlib.Path(ref_dir))\n",
    "#     m2[username][\"figures_dir\"] = str(pathlib.Path(figures_dir))\n",
    "#     m2[username][\"metadata_dir\"] = str(pathlib.Path(f'{pref}/{user}/metadata/'))\n",
    "    \n",
    "#     return m, m2"
   ]
  },
  {
   "cell_type": "code",
   "execution_count": 3,
   "id": "6f24528e-c16b-4950-8b5f-4248ef9d9697",
   "metadata": {},
   "outputs": [
    {
     "ename": "NameError",
     "evalue": "name 'm' is not defined",
     "output_type": "error",
     "traceback": [
      "\u001b[0;31m---------------------------------------------------------------------------\u001b[0m",
      "\u001b[0;31mNameError\u001b[0m                                 Traceback (most recent call last)",
      "\u001b[0;32m<ipython-input-3-9e8f81206a56>\u001b[0m in \u001b[0;36m<module>\u001b[0;34m\u001b[0m\n\u001b[1;32m     18\u001b[0m \u001b[0;32mfor\u001b[0m \u001b[0muser\u001b[0m\u001b[0;34m,\u001b[0m \u001b[0mentry\u001b[0m \u001b[0;32min\u001b[0m \u001b[0mm\u001b[0m\u001b[0;34m[\u001b[0m\u001b[0;34m'setup_settings'\u001b[0m\u001b[0;34m]\u001b[0m\u001b[0;34m[\u001b[0m\u001b[0;34m'users'\u001b[0m\u001b[0;34m]\u001b[0m\u001b[0;34m.\u001b[0m\u001b[0mitems\u001b[0m\u001b[0;34m(\u001b[0m\u001b[0;34m)\u001b[0m\u001b[0;34m:\u001b[0m\u001b[0;34m\u001b[0m\u001b[0;34m\u001b[0m\u001b[0m\n\u001b[1;32m     19\u001b[0m     \u001b[0;32mif\u001b[0m \u001b[0muser\u001b[0m \u001b[0;32mnot\u001b[0m \u001b[0;32min\u001b[0m \u001b[0mm\u001b[0m\u001b[0;34m[\u001b[0m\u001b[0;34m'path_map'\u001b[0m\u001b[0;34m]\u001b[0m\u001b[0;34m.\u001b[0m\u001b[0mkeys\u001b[0m\u001b[0;34m(\u001b[0m\u001b[0;34m)\u001b[0m\u001b[0;34m:\u001b[0m\u001b[0;34m\u001b[0m\u001b[0;34m\u001b[0m\u001b[0m\n\u001b[0;32m---> 20\u001b[0;31m         \u001b[0mm\u001b[0m\u001b[0;34m,\u001b[0m \u001b[0mm2\u001b[0m \u001b[0;34m=\u001b[0m \u001b[0mmake_user_path_map_entry\u001b[0m\u001b[0;34m(\u001b[0m\u001b[0mentry\u001b[0m\u001b[0;34m[\u001b[0m\u001b[0;34m'mn5_username'\u001b[0m\u001b[0;34m]\u001b[0m\u001b[0;34m)\u001b[0m\u001b[0;34m\u001b[0m\u001b[0;34m\u001b[0m\u001b[0m\n\u001b[0m\u001b[1;32m     21\u001b[0m \u001b[0;34m\u001b[0m\u001b[0m\n\u001b[1;32m     22\u001b[0m \u001b[0;34m\u001b[0m\u001b[0m\n",
      "\u001b[0;32m~/Documents/programming/mele_lab/projects/project_template/template_user/resources/utils.py\u001b[0m in \u001b[0;36mmake_user_path_map_entry\u001b[0;34m(username)\u001b[0m\n\u001b[1;32m    229\u001b[0m       \u001b[0;31m`\u001b[0m\u001b[0mpref\u001b[0m\u001b[0;31m`\u001b[0m\u001b[0;34m,\u001b[0m \u001b[0;32mand\u001b[0m\u001b[0;31m \u001b[0m\u001b[0;31m`\u001b[0m\u001b[0muser\u001b[0m\u001b[0;31m`\u001b[0m\u001b[0;34m.\u001b[0m\u001b[0;34m\u001b[0m\u001b[0;34m\u001b[0m\u001b[0m\n\u001b[1;32m    230\u001b[0m     \"\"\"\n\u001b[0;32m--> 231\u001b[0;31m     \u001b[0mm\u001b[0m\u001b[0;34m[\u001b[0m\u001b[0;34m'path_map'\u001b[0m\u001b[0;34m]\u001b[0m\u001b[0;34m[\u001b[0m\u001b[0musername\u001b[0m\u001b[0;34m]\u001b[0m \u001b[0;34m=\u001b[0m \u001b[0;34m{\u001b[0m\u001b[0;34m}\u001b[0m\u001b[0;34m\u001b[0m\u001b[0;34m\u001b[0m\u001b[0m\n\u001b[0m\u001b[1;32m    232\u001b[0m     \u001b[0mm\u001b[0m\u001b[0;34m[\u001b[0m\u001b[0;34m'path_map'\u001b[0m\u001b[0;34m]\u001b[0m\u001b[0;34m[\u001b[0m\u001b[0musername\u001b[0m\u001b[0;34m]\u001b[0m\u001b[0;34m[\u001b[0m\u001b[0;34m\"{data_dir}\"\u001b[0m\u001b[0;34m]\u001b[0m \u001b[0;34m=\u001b[0m \u001b[0mstr\u001b[0m\u001b[0;34m(\u001b[0m\u001b[0mpathlib\u001b[0m\u001b[0;34m.\u001b[0m\u001b[0mPath\u001b[0m\u001b[0;34m(\u001b[0m\u001b[0mdata_dir\u001b[0m\u001b[0;34m)\u001b[0m\u001b[0;34m)\u001b[0m\u001b[0;34m\u001b[0m\u001b[0;34m\u001b[0m\u001b[0m\n\u001b[1;32m    233\u001b[0m     \u001b[0mm\u001b[0m\u001b[0;34m[\u001b[0m\u001b[0;34m'path_map'\u001b[0m\u001b[0;34m]\u001b[0m\u001b[0;34m[\u001b[0m\u001b[0musername\u001b[0m\u001b[0;34m]\u001b[0m\u001b[0;34m[\u001b[0m\u001b[0;34m\"{ref_dir}\"\u001b[0m\u001b[0;34m]\u001b[0m \u001b[0;34m=\u001b[0m \u001b[0mstr\u001b[0m\u001b[0;34m(\u001b[0m\u001b[0mpathlib\u001b[0m\u001b[0;34m.\u001b[0m\u001b[0mPath\u001b[0m\u001b[0;34m(\u001b[0m\u001b[0mref_dir\u001b[0m\u001b[0;34m)\u001b[0m\u001b[0;34m)\u001b[0m\u001b[0;34m\u001b[0m\u001b[0;34m\u001b[0m\u001b[0m\n",
      "\u001b[0;31mNameError\u001b[0m: name 'm' is not defined"
     ]
    }
   ],
   "source": [
    "m = load_resources()\n",
    "\n",
    "# for path_map for find and replace\n",
    "m['path_map'] = {}\n",
    "\n",
    "# for plain text getters\n",
    "m2 = {}\n",
    "\n",
    "# adding path map entries for MN5 location\n",
    "\n",
    "# data dir, ref dir, and figures dir are shared by all users\n",
    "pref = f\"{m['setup_settings']['mn5_projects']}/{m['setup_settings']['project_name']}\"\n",
    "data_dir = f'{pref}/data/'\n",
    "ref_dir = f'{pref}/ref/'\n",
    "figures_dir = f'{pref}/figures/'\n",
    "\n",
    "# loop through usernames and add only the new one -- mn5\n",
    "for user, entry in m['setup_settings']['users'].items():\n",
    "    if user not in m['path_map'].keys():\n",
    "        m, m2 = make_user_path_map_entry, m, entry['mn5_username'])\n",
    "\n",
    "\n",
    "# loop through usernames and and add only the new one -- local\n",
    "for user, entry in m['setup_settings']['users'].items():\n",
    "    if user not in m['path_map'].keys():\n",
    "        m, m2 = make_user_path_map_entry_local(m, user, entry['local_username'])"
   ]
  },
  {
   "cell_type": "code",
   "execution_count": null,
   "id": "18b4a4ee-4efc-43da-b746-2be3f36cf44e",
   "metadata": {},
   "outputs": [],
   "source": [
    "# write, just append the path_map and quick-access path maps\n",
    "m_append = {}\n",
    "m_append['path_map'] = m['path_map']\n",
    "with open('template_user/resources/resources.yml', 'a') as f:\n",
    "        yaml.dump(m_append, f, default_flow_style=False)\n",
    "        yaml.dump(m2, f, default_flow_style=False)\n",
    "\n",
    "# make a copy of template user for each user\n",
    "for user in m['setup_settings']['users']:\n",
    "    cmd = f'cp -r template_user/ {user}'\n",
    "    run_cmd(cmd)\n"
   ]
  }
 ],
 "metadata": {
  "kernelspec": {
   "display_name": "Python 3",
   "language": "python",
   "name": "python3"
  },
  "language_info": {
   "codemirror_mode": {
    "name": "ipython",
    "version": 3
   },
   "file_extension": ".py",
   "mimetype": "text/x-python",
   "name": "python",
   "nbconvert_exporter": "python",
   "pygments_lexer": "ipython3",
   "version": "3.7.12"
  }
 },
 "nbformat": 4,
 "nbformat_minor": 5
}
